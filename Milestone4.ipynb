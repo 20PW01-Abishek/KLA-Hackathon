{
 "cells": [
  {
   "cell_type": "code",
   "execution_count": 400,
   "id": "0e6aa2ff",
   "metadata": {},
   "outputs": [],
   "source": [
    "with open(\"Milestone_Input/Milestone 4/POI.txt\", \"r\") as poi:\n",
    "    input1 = poi.read()\n",
    "template = input1.split(\"boundary\")[1:]"
   ]
  },
  {
   "cell_type": "code",
   "execution_count": 401,
   "id": "b178ee29",
   "metadata": {},
   "outputs": [
    {
     "name": "stdout",
     "output_type": "stream",
     "text": [
      "boundary\n",
      "layer 1\n",
      "datatype 0\n",
      "xy  5  2630 2010  2630 3000  6320 3000  6320 2010  2630 2010\n",
      "endel\n",
      "\n",
      "boundary\n",
      "layer 1\n",
      "datatype 0\n",
      "xy  5  3970 -1050  3970 1480  5040 1480  5040 -1050  3970 -1050\n",
      "endel\n"
     ]
    }
   ],
   "source": [
    "template = [\"boundary\"+i for i in template]\n",
    "last = template.pop().split(\"endel\")\n",
    "template.append(last[0]+\"endel\")\n",
    "for i in template:\n",
    "    print(i)"
   ]
  },
  {
   "cell_type": "code",
   "execution_count": 402,
   "id": "0237fd29",
   "metadata": {},
   "outputs": [],
   "source": [
    "with open(\"Milestone_Input/Milestone 4/Source.txt\", \"r\") as source:\n",
    "    input1 = source.read()"
   ]
  },
  {
   "cell_type": "code",
   "execution_count": 403,
   "id": "e6586680",
   "metadata": {
    "scrolled": true
   },
   "outputs": [],
   "source": [
    "input1 = input1.split(\"boundary\")\n",
    "input1 = input1[1:]\n",
    "input1 = [\"boundary\"+i for i in input1]\n",
    "last = input1.pop()\n",
    "last = last.split(\"endel\")\n",
    "last = last[0]+\"endel\"\n",
    "input1.append(last)"
   ]
  },
  {
   "cell_type": "code",
   "execution_count": 404,
   "id": "044fdd5e",
   "metadata": {},
   "outputs": [],
   "source": [
    "def extract_components(c) -> list:\n",
    "    t = c\n",
    "    t = t.split(\"\\n\")[3]\n",
    "    t = t.split(\"  \")\n",
    "    for i in range(int(t[1])):\n",
    "        t[i+2] = t[i+2].split(\" \")\n",
    "        t[i+2] = [int(x) for x in t[i+2]]\n",
    "    return t"
   ]
  },
  {
   "cell_type": "code",
   "execution_count": 405,
   "id": "2592246a",
   "metadata": {},
   "outputs": [
    {
     "name": "stdout",
     "output_type": "stream",
     "text": [
      "['xy', '5', [2630, 2010], [2630, 3000], [6320, 3000], [6320, 2010], [2630, 2010]]\n",
      "['xy', '5', [3970, -1050], [3970, 1480], [5040, 1480], [5040, -1050], [3970, -1050]]\n"
     ]
    }
   ],
   "source": [
    "template_components = list()\n",
    "for i in template:\n",
    "    template_components.append(extract_components(i))\n",
    "for i in template_components:\n",
    "    print(i)"
   ]
  },
  {
   "cell_type": "code",
   "execution_count": 406,
   "id": "d4b572ed",
   "metadata": {},
   "outputs": [],
   "source": [
    "def distance(x,y) -> float:\n",
    "    [x1,y1],[x2,y2] = x,y\n",
    "    return round(((x1-x2)**2 + (y1-y2)**2)**(1/2),6)"
   ]
  },
  {
   "cell_type": "code",
   "execution_count": 407,
   "id": "05311d3b",
   "metadata": {},
   "outputs": [
    {
     "name": "stdout",
     "output_type": "stream",
     "text": [
      "['5', 990.0, 3820.49735, 3690.0, 0.0, 3690.0, 3820.49735, 990.0, 990.0, 3820.49735, 3690.0]\n",
      "['5', 2530.0, 2746.961958, 1070.0, 0.0, 1070.0, 2746.961958, 2530.0, 2530.0, 2746.961958, 1070.0]\n"
     ]
    }
   ],
   "source": [
    "template_distance = []\n",
    "for component in template_components:\n",
    "    d = [component[1]]\n",
    "    for i in range(int(component[1])):\n",
    "        for j in range(i+1,int(component[1])):\n",
    "            d.append(distance(component[i+2],component[j+2]))\n",
    "    template_distance.append(d)\n",
    "for i in template_distance:\n",
    "    print(i)"
   ]
  },
  {
   "cell_type": "code",
   "execution_count": 408,
   "id": "432afaba",
   "metadata": {},
   "outputs": [],
   "source": [
    "def dist_checker(x) -> bool:\n",
    "    d = [x[1]]\n",
    "    for i in range(int(x[1])):\n",
    "        for j in range(i+1,int(x[1])):\n",
    "            d.append(distance(x[i+2],x[j+2]))\n",
    "    for i in template_distance:\n",
    "        if i == d:\n",
    "            return True\n",
    "    return False"
   ]
  },
  {
   "cell_type": "code",
   "execution_count": 409,
   "id": "7e14c348",
   "metadata": {},
   "outputs": [],
   "source": [
    "def area(P) -> float :\n",
    "    area = 0\n",
    "    n = len(P)-2\n",
    "    X = []\n",
    "    Y = []\n",
    "    for i in P:\n",
    "        if type(i) == list:\n",
    "            X.append(i[0])\n",
    "            Y.append(i[1])\n",
    "    j = n - 1\n",
    "    for i in range(0,n):\n",
    "        area += (X[j] + X[i]) * (Y[j] - Y[i])\n",
    "        j = i\n",
    "    return round(abs(area / 2),6)"
   ]
  },
  {
   "cell_type": "code",
   "execution_count": 410,
   "id": "5b8f414a",
   "metadata": {},
   "outputs": [
    {
     "name": "stdout",
     "output_type": "stream",
     "text": [
      "[3653100.0, 2707100.0]\n"
     ]
    }
   ],
   "source": [
    "template_area = []\n",
    "for i in template_components:\n",
    "    template_area.append(area(i))\n",
    "print(template_area)"
   ]
  },
  {
   "cell_type": "code",
   "execution_count": 411,
   "id": "6e0fb580",
   "metadata": {},
   "outputs": [],
   "source": [
    "def area_checker(P) -> bool:\n",
    "    for i in template_area:\n",
    "        if area(P) == i:\n",
    "            return True\n",
    "    return False"
   ]
  },
  {
   "cell_type": "code",
   "execution_count": 412,
   "id": "a5b7bd44",
   "metadata": {},
   "outputs": [],
   "source": [
    "with open(\"Output/milestone4_output.txt\", 'w') as file2:\n",
    "    for i in input1:\n",
    "        i_components = extract_components(i)\n",
    "        if dist_checker(i_components) and area_checker(i_components):\n",
    "            file2.write(i)"
   ]
  }
 ],
 "metadata": {
  "kernelspec": {
   "display_name": "Python 3 (ipykernel)",
   "language": "python",
   "name": "python3"
  },
  "language_info": {
   "codemirror_mode": {
    "name": "ipython",
    "version": 3
   },
   "file_extension": ".py",
   "mimetype": "text/x-python",
   "name": "python",
   "nbconvert_exporter": "python",
   "pygments_lexer": "ipython3",
   "version": "3.9.12"
  }
 },
 "nbformat": 4,
 "nbformat_minor": 5
}
