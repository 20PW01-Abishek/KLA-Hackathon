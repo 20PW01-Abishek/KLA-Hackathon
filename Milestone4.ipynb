{
 "cells": [
  {
   "cell_type": "code",
   "execution_count": null,
   "id": "0e6aa2ff",
   "metadata": {},
   "outputs": [],
   "source": [
    "with open(\"Milestone_Input/Milestone 4/POI.txt\", \"r\") as poi:\n",
    "    input1 = poi.read()\n",
    "template = input1.split(\"boundary\")[1:]"
   ]
  },
  {
   "cell_type": "code",
   "execution_count": null,
   "id": "b178ee29",
   "metadata": {},
   "outputs": [],
   "source": [
    "template = [\"boundary\"+i for i in template]\n",
    "last = template.pop().split(\"endel\")\n",
    "template.append(last[0]+\"endel\")\n",
    "for i in template:\n",
    "    print(i)"
   ]
  },
  {
   "cell_type": "code",
   "execution_count": null,
   "id": "0237fd29",
   "metadata": {},
   "outputs": [],
   "source": [
    "with open(\"Milestone_Input/Milestone 4/Source.txt\", \"r\") as source:\n",
    "    input1 = source.read()"
   ]
  },
  {
   "cell_type": "code",
   "execution_count": null,
   "id": "e6586680",
   "metadata": {
    "scrolled": true
   },
   "outputs": [],
   "source": [
    "input1 = input1.split(\"boundary\")\n",
    "input1 = input1[1:]\n",
    "input1 = [\"boundary\"+i for i in input1]\n",
    "last = input1.pop()\n",
    "last = last.split(\"endel\")\n",
    "last = last[0]+\"endel\"\n",
    "input1.append(last)"
   ]
  },
  {
   "cell_type": "code",
   "execution_count": null,
   "id": "044fdd5e",
   "metadata": {},
   "outputs": [],
   "source": [
    "def extract_components(c) -> list:\n",
    "    t = c\n",
    "    t = t.split(\"\\n\")[3]\n",
    "    t = t.split(\"  \")\n",
    "    for i in range(int(t[1])):\n",
    "        t[i+2] = t[i+2].split(\" \")\n",
    "        t[i+2] = [int(x) for x in t[i+2]]\n",
    "    return t"
   ]
  },
  {
   "cell_type": "code",
   "execution_count": null,
   "id": "2592246a",
   "metadata": {},
   "outputs": [],
   "source": [
    "template_components = list()\n",
    "for i in template:\n",
    "    template_components.append(extract_components(i))\n",
    "for i in template_components:\n",
    "    print(i)"
   ]
  },
  {
   "cell_type": "code",
   "execution_count": null,
   "id": "d4b572ed",
   "metadata": {},
   "outputs": [],
   "source": [
    "def distance(x,y) -> float:\n",
    "    [x1,y1],[x2,y2] = x,y\n",
    "    return round(((x1-x2)**2 + (y1-y2)**2)**(1/2),6)"
   ]
  },
  {
   "cell_type": "code",
   "execution_count": null,
   "id": "51d57a4e",
   "metadata": {},
   "outputs": [],
   "source": [
    "template_distance = []\n",
    "for i in template_components:\n",
    "    d = [i[1]]\n",
    "    for j in range(int(i[1])):\n",
    "        for k in range(j+1,int(i[1])):\n",
    "            d.append(distance(i[j+2],i[k+2]))\n",
    "    template_distance.append(d)\n",
    "for i in template_distance:\n",
    "    print(i)"
   ]
  },
  {
   "cell_type": "code",
   "execution_count": null,
   "id": "58808878",
   "metadata": {},
   "outputs": [],
   "source": [
    "import math\n",
    "def angle(A, B, C) -> list:\n",
    "    #sides\n",
    "    a = distance(B, C)\n",
    "    b = distance(A, C)\n",
    "    c = distance(A, B)\n",
    "    #sides sqyared\n",
    "    a2, b2, c2 = a**2,b**2,c**2\n",
    "    #angles\n",
    "    x = math.acos((b2 + c2 - a2) / (2 * b * c))\n",
    "    y = math.acos((a2 + c2 - b2) / (2 * a * c))\n",
    "    z = math.acos((a2 + b2 - c2) / (2 * a * b))\n",
    "    return [x,y,z]"
   ]
  },
  {
   "cell_type": "code",
   "execution_count": null,
   "id": "34b391ef",
   "metadata": {},
   "outputs": [],
   "source": [
    "template_angle = []\n",
    "for i in template_components:\n",
    "    a = []\n",
    "    for j in range(int(i[1])-2):\n",
    "        a.append(angle(i[j+2],i[j+3],i[j+4]))\n",
    "    template_angle.append(a)\n",
    "for i in template_angle:\n",
    "    print(i)"
   ]
  },
  {
   "cell_type": "code",
   "execution_count": null,
   "id": "09a75f1f",
   "metadata": {},
   "outputs": [],
   "source": [
    "def angle_checker(x) -> bool:\n",
    "    a = [x[1]]\n",
    "    for i in range(int(x[1])-2):\n",
    "        a.append(angle(x[i+2],x[i+3],x[i+4]))\n",
    "    for i in template_angle:\n",
    "        if i == a:\n",
    "            return True\n",
    "    return False"
   ]
  },
  {
   "cell_type": "code",
   "execution_count": null,
   "id": "5f36c976",
   "metadata": {},
   "outputs": [],
   "source": [
    "def dist_checker(x) -> bool:\n",
    "    d = [x[1]]\n",
    "    for i in range(int(x[1])):\n",
    "        for j in range(i+1,int(x[1])):\n",
    "            d.append(distance(x[i+2],x[j+2]))\n",
    "    for i in template_distance:\n",
    "        if i == d:\n",
    "            return True\n",
    "    return False"
   ]
  },
  {
   "cell_type": "code",
   "execution_count": null,
   "id": "7e14c348",
   "metadata": {},
   "outputs": [],
   "source": [
    "def area(P) -> float :\n",
    "    area = 0\n",
    "    n = len(P)-2\n",
    "    X = []\n",
    "    Y = []\n",
    "    for i in P:\n",
    "        if type(i) == list:\n",
    "            X.append(i[0])\n",
    "            Y.append(i[1])\n",
    "    j = n - 1\n",
    "    for i in range(0,n):\n",
    "        area += (X[j] + X[i]) * (Y[j] - Y[i])\n",
    "        j = i\n",
    "    return round(abs(area / 2),6)"
   ]
  },
  {
   "cell_type": "code",
   "execution_count": null,
   "id": "5b8f414a",
   "metadata": {},
   "outputs": [],
   "source": [
    "template_area = []\n",
    "for i in template_components:\n",
    "    template_area.append(area(i))\n",
    "print(template_area)"
   ]
  },
  {
   "cell_type": "code",
   "execution_count": null,
   "id": "6e0fb580",
   "metadata": {},
   "outputs": [],
   "source": [
    "def area_checker(P) -> bool:\n",
    "    for i in template_area:\n",
    "        if area(P) == i:\n",
    "            return True\n",
    "    return False"
   ]
  },
  {
   "cell_type": "code",
   "execution_count": null,
   "id": "a5b7bd44",
   "metadata": {},
   "outputs": [],
   "source": [
    "with open(\"Output/milestone4_output.txt\", 'w') as file2:\n",
    "    for i in input1:\n",
    "        i_components = extract_components(i)\n",
    "        if dist_checker(i_components) and area_checker(i_components):\n",
    "            file2.write(i)"
   ]
  }
 ],
 "metadata": {
  "kernelspec": {
   "display_name": "Python 3 (ipykernel)",
   "language": "python",
   "name": "python3"
  },
  "language_info": {
   "codemirror_mode": {
    "name": "ipython",
    "version": 3
   },
   "file_extension": ".py",
   "mimetype": "text/x-python",
   "name": "python",
   "nbconvert_exporter": "python",
   "pygments_lexer": "ipython3",
   "version": "3.9.12"
  }
 },
 "nbformat": 4,
 "nbformat_minor": 5
}
