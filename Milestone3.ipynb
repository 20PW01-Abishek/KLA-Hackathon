{
 "cells": [
  {
   "cell_type": "code",
   "execution_count": 2,
   "id": "0e6aa2ff",
   "metadata": {},
   "outputs": [
    {
     "ename": "FileNotFoundError",
     "evalue": "[Errno 2] No such file or directory: 'Milestone_Input/Milestone 3/POI.txt'",
     "output_type": "error",
     "traceback": [
      "\u001b[1;31m---------------------------------------------------------------------------\u001b[0m",
      "\u001b[1;31mFileNotFoundError\u001b[0m                         Traceback (most recent call last)",
      "Input \u001b[1;32mIn [2]\u001b[0m, in \u001b[0;36m<cell line: 1>\u001b[1;34m()\u001b[0m\n\u001b[1;32m----> 1\u001b[0m \u001b[38;5;28;01mwith\u001b[39;00m \u001b[38;5;28;43mopen\u001b[39;49m\u001b[43m(\u001b[49m\u001b[38;5;124;43m\"\u001b[39;49m\u001b[38;5;124;43mMilestone_Input/Milestone 3/POI.txt\u001b[39;49m\u001b[38;5;124;43m\"\u001b[39;49m\u001b[43m,\u001b[49m\u001b[43m \u001b[49m\u001b[38;5;124;43m\"\u001b[39;49m\u001b[38;5;124;43mr\u001b[39;49m\u001b[38;5;124;43m\"\u001b[39;49m\u001b[43m)\u001b[49m \u001b[38;5;28;01mas\u001b[39;00m poi:\n\u001b[0;32m      2\u001b[0m     input1 \u001b[38;5;241m=\u001b[39m poi\u001b[38;5;241m.\u001b[39mread()\n\u001b[0;32m      3\u001b[0m template \u001b[38;5;241m=\u001b[39m input1\u001b[38;5;241m.\u001b[39msplit(\u001b[38;5;124m\"\u001b[39m\u001b[38;5;124mboundary\u001b[39m\u001b[38;5;124m\"\u001b[39m)[\u001b[38;5;241m1\u001b[39m:]\n",
      "\u001b[1;31mFileNotFoundError\u001b[0m: [Errno 2] No such file or directory: 'Milestone_Input/Milestone 3/POI.txt'"
     ]
    }
   ],
   "source": [
    "with open(\"Milestone_Input/Milestone 3/POI.txt\", \"r\") as poi:\n",
    "    input1 = poi.read()\n",
    "template = input1.split(\"boundary\")[1:]"
   ]
  },
  {
   "cell_type": "code",
   "execution_count": null,
   "id": "b178ee29",
   "metadata": {},
   "outputs": [],
   "source": [
    "template = \"boundary\"+template[0]\n",
    "template = template.split(\"endel\")\n",
    "template = template[0]+\"endel\"\n",
    "print(template)"
   ]
  },
  {
   "cell_type": "code",
   "execution_count": null,
   "id": "0237fd29",
   "metadata": {},
   "outputs": [],
   "source": [
    "with open(\"Milestone_Input/Milestone 3/Source.txt\", \"r\") as source:\n",
    "    input1 = source.read()"
   ]
  },
  {
   "cell_type": "code",
   "execution_count": null,
   "id": "e6586680",
   "metadata": {
    "scrolled": true
   },
   "outputs": [],
   "source": [
    "input1 = input1.split(\"boundary\")\n",
    "input1 = input1[1:]\n",
    "input1 = [\"boundary\"+i for i in input1]\n",
    "last = input1.pop()\n",
    "last = last.split(\"endel\")\n",
    "last = last[0]+\"endel\"\n",
    "input1.append(last)\n",
    "for i in input1:\n",
    "    print(i)"
   ]
  },
  {
   "cell_type": "code",
   "execution_count": null,
   "id": "044fdd5e",
   "metadata": {},
   "outputs": [],
   "source": [
    "def extract_components(c):\n",
    "    t = c\n",
    "    t = t.split(\"\\n\")[3]\n",
    "    t = t.split(\"  \")\n",
    "    for i in range(int(t[1])):\n",
    "        t[i+2] = t[i+2].split(\" \")\n",
    "        t[i+2] = [int(x) for x in t[i+2]]\n",
    "    return t"
   ]
  },
  {
   "cell_type": "code",
   "execution_count": null,
   "id": "2592246a",
   "metadata": {},
   "outputs": [],
   "source": [
    "template_components = extract_components(template)\n",
    "print(sorted(template_components))"
   ]
  },
  {
   "cell_type": "code",
   "execution_count": null,
   "id": "d4b572ed",
   "metadata": {},
   "outputs": [],
   "source": [
    "def distance(x,y):\n",
    "    [x1,y1],[x2,y2] = x,y\n",
    "    return round(((x1-x2)**2 + (y1-y2)**2)**(1/2),6)"
   ]
  },
  {
   "cell_type": "code",
   "execution_count": null,
   "id": "72896790",
   "metadata": {},
   "outputs": [],
   "source": [
    "def angle(x,y,z):\n",
    "    [x1,y1],[x2,y2],[x3,y3] = x,y,z\n",
    "    return 0"
   ]
  },
  {
   "cell_type": "code",
   "execution_count": null,
   "id": "292bd62f",
   "metadata": {},
   "outputs": [],
   "source": [
    "def dist_checker(x,y) -> bool:\n",
    "    if x[1] != y[1]:\n",
    "        return False\n",
    "    d1 = list()\n",
    "    d2 = list()\n",
    "    for i in range(int(x[1])):\n",
    "        for j in range(i+1,int(x[1])):\n",
    "            d1.append(distance(x[i+2],x[j+2]))\n",
    "            d2.append(distance(x[i+2],x[j+2]))\n",
    "    d1.sort()\n",
    "    d2.sort()\n",
    "    return d1 == d2"
   ]
  },
  {
   "cell_type": "code",
   "execution_count": null,
   "id": "c7d2cb7f",
   "metadata": {},
   "outputs": [],
   "source": [
    "import math\n",
    "def angle(A, B, C) -> list:\n",
    "    #sides\n",
    "    a = distance(B, C)\n",
    "    b = distance(A, C)\n",
    "    c = distance(A, B)\n",
    "    #sides sqyared\n",
    "    a2, b2, c2 = a**2,b**2,c**2\n",
    "    #angles\n",
    "    x = math.acos((b2 + c2 - a2) / (2 * b * c))\n",
    "    y = math.acos((a2 + c2 - b2) / (2 * a * c))\n",
    "    z = math.acos((a2 + b2 - c2) / (2 * a * b))\n",
    "    return [x,y,z]"
   ]
  },
  {
   "cell_type": "code",
   "execution_count": null,
   "id": "37e355fc",
   "metadata": {},
   "outputs": [],
   "source": [
    "def angle_checker(x,y) -> bool:\n",
    "    if x[1] != y[1]:\n",
    "        return False\n",
    "    a1 = list()\n",
    "    a2 = list()\n",
    "    for i in range(int(x[1])-2):\n",
    "            a1.append(angle(x[i+2],x[i+3],x[i+4]))\n",
    "            a2.append(angle(x[i+2],x[i+3],x[i+4]))\n",
    "    a1.sort()\n",
    "    a2.sort()\n",
    "    return a1 == a2"
   ]
  },
  {
   "cell_type": "code",
   "execution_count": null,
   "id": "a5b7bd44",
   "metadata": {},
   "outputs": [],
   "source": [
    "with open(\"Output/milestone3_output.txt\", 'w') as file2:\n",
    "    for i in input1:\n",
    "        i_components = extract_components(i)\n",
    "        if dist_checker(i_components,template_components) and angle_checker(i_components,template_components):\n",
    "            print(i)\n",
    "            file2.write(i)"
   ]
  }
 ],
 "metadata": {
  "kernelspec": {
   "display_name": "Python 3 (ipykernel)",
   "language": "python",
   "name": "python3"
  },
  "language_info": {
   "codemirror_mode": {
    "name": "ipython",
    "version": 3
   },
   "file_extension": ".py",
   "mimetype": "text/x-python",
   "name": "python",
   "nbconvert_exporter": "python",
   "pygments_lexer": "ipython3",
   "version": "3.9.12"
  }
 },
 "nbformat": 4,
 "nbformat_minor": 5
}
