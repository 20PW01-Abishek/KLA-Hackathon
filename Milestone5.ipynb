{
 "cells": [
  {
   "cell_type": "code",
   "execution_count": 206,
   "id": "0e6aa2ff",
   "metadata": {},
   "outputs": [],
   "source": [
    "with open(\"Milestone_Input/Milestone 5/POI.txt\", \"r\") as poi:\n",
    "    input1 = poi.read()\n",
    "template = input1.split(\"boundary\")[1:]"
   ]
  },
  {
   "cell_type": "code",
   "execution_count": 207,
   "id": "b178ee29",
   "metadata": {},
   "outputs": [
    {
     "name": "stdout",
     "output_type": "stream",
     "text": [
      "boundary\n",
      "layer 1\n",
      "datatype 0\n",
      "xy  13  500 3900  500 6440  2670 6440  2670 5820  770 5820  770 5490  2680 5490  2680 4870  770 4870  770 4520  2670 4520  2670 3900  500 3900\n",
      "endel\n"
     ]
    }
   ],
   "source": [
    "template = \"boundary\"+template[0]\n",
    "template = template.split(\"endel\")\n",
    "template = template[0]+\"endel\"\n",
    "print(template)"
   ]
  },
  {
   "cell_type": "code",
   "execution_count": 208,
   "id": "0237fd29",
   "metadata": {},
   "outputs": [],
   "source": [
    "with open(\"Milestone_Input/Milestone 5/Source.txt\", \"r\") as source:\n",
    "    input1 = source.read()"
   ]
  },
  {
   "cell_type": "code",
   "execution_count": 209,
   "id": "e6586680",
   "metadata": {
    "scrolled": true
   },
   "outputs": [],
   "source": [
    "input1 = input1.split(\"boundary\")\n",
    "input1 = input1[1:]\n",
    "input1 = [\"boundary\"+i for i in input1]\n",
    "last = input1.pop()\n",
    "last = last.split(\"endel\")\n",
    "last = last[0]+\"endel\"\n",
    "input1.append(last)"
   ]
  },
  {
   "cell_type": "code",
   "execution_count": 210,
   "id": "044fdd5e",
   "metadata": {},
   "outputs": [],
   "source": [
    "def extract_components(c):\n",
    "    t = c\n",
    "    t = t.split(\"\\n\")[3]\n",
    "    t = t.split(\"  \")\n",
    "    for i in range(int(t[1])):\n",
    "        t[i+2] = t[i+2].split(\" \")\n",
    "        t[i+2] = [int(x) for x in t[i+2]]\n",
    "    return t"
   ]
  },
  {
   "cell_type": "code",
   "execution_count": 211,
   "id": "2592246a",
   "metadata": {},
   "outputs": [
    {
     "name": "stdout",
     "output_type": "stream",
     "text": [
      "['xy', '13', [500, 3900], [500, 6440], [2670, 6440], [2670, 5820], [770, 5820], [770, 5490], [2680, 5490], [2680, 4870], [770, 4870], [770, 4520], [2670, 4520], [2670, 3900], [500, 3900]]\n"
     ]
    }
   ],
   "source": [
    "template_components = extract_components(template)\n",
    "print(template_components)"
   ]
  },
  {
   "cell_type": "code",
   "execution_count": 212,
   "id": "d4b572ed",
   "metadata": {},
   "outputs": [],
   "source": [
    "def distance(x,y):\n",
    "    [x1,y1],[x2,y2] = x,y\n",
    "    return round(((x1-x2)**2 + (y1-y2)**2)**(1/2),6)"
   ]
  },
  {
   "cell_type": "code",
   "execution_count": 213,
   "id": "292bd62f",
   "metadata": {},
   "outputs": [],
   "source": [
    "def dist_checker(x,y) -> bool:\n",
    "    if x[1] != y[1]:\n",
    "        return False\n",
    "    d1 = list()\n",
    "    d2 = list()\n",
    "    for i in range(int(x[1])):\n",
    "        for j in range(i+1,int(x[1])):\n",
    "            d1.append(distance(x[i+2],x[j+2]))\n",
    "            d2.append(distance(x[i+2],x[j+2]))\n",
    "    d1.sort()\n",
    "    d2.sort()\n",
    "    return d1 == d2"
   ]
  },
  {
   "cell_type": "code",
   "execution_count": 214,
   "id": "c7d2cb7f",
   "metadata": {},
   "outputs": [],
   "source": [
    "import math\n",
    "def angle(A, B, C) -> list:\n",
    "    #sides\n",
    "    a = distance(B, C)\n",
    "    b = distance(A, C)\n",
    "    c = distance(A, B)\n",
    "    #sides sqyared\n",
    "    a2, b2, c2 = a**2,b**2,c**2\n",
    "    #angles\n",
    "    x = math.acos((b2 + c2 - a2) / (2 * b * c))\n",
    "    y = math.acos((a2 + c2 - b2) / (2 * a * c))\n",
    "    z = math.acos((a2 + b2 - c2) / (2 * a * b))\n",
    "    return [x,y,z]"
   ]
  },
  {
   "cell_type": "code",
   "execution_count": 215,
   "id": "37e355fc",
   "metadata": {},
   "outputs": [],
   "source": [
    "def angle_checker(x,y) -> bool:\n",
    "    if x[1] != y[1]:\n",
    "        return False\n",
    "    x[2:].sort()\n",
    "    y[2:].sort()\n",
    "    a1 = list()\n",
    "    a2 = list()\n",
    "    for i in range(int(x[1])-2):\n",
    "            a1.append(angle(x[i+2],x[i+3],x[i+4]))\n",
    "            a2.append(angle(x[i+2],x[i+3],x[i+4]))\n",
    "    return a1 == a2"
   ]
  },
  {
   "cell_type": "code",
   "execution_count": 216,
   "id": "e4cf0a2f",
   "metadata": {},
   "outputs": [],
   "source": [
    "def area(P):\n",
    "    area = 0\n",
    "    n = len(P)-2\n",
    "    X = []\n",
    "    Y = []\n",
    "    for i in P:\n",
    "        if type(i) == list:\n",
    "            X.append(i[0])\n",
    "            Y.append(i[1])\n",
    "    j = n - 1\n",
    "    for i in range(0,n):\n",
    "        area += (X[j] + X[i]) * (Y[j] - Y[i])\n",
    "        j = i\n",
    "    return round(abs(area / 2),6)"
   ]
  },
  {
   "cell_type": "code",
   "execution_count": 217,
   "id": "d6fddea9",
   "metadata": {},
   "outputs": [
    {
     "name": "stdout",
     "output_type": "stream",
     "text": [
      "4226000.0\n"
     ]
    }
   ],
   "source": [
    "template_area = area(template_components)\n",
    "print(template_area)"
   ]
  },
  {
   "cell_type": "code",
   "execution_count": 218,
   "id": "2e4608f7",
   "metadata": {},
   "outputs": [],
   "source": [
    "def area_checker(P):\n",
    "    return area(P) == template_area"
   ]
  },
  {
   "cell_type": "code",
   "execution_count": 219,
   "id": "a5b7bd44",
   "metadata": {},
   "outputs": [],
   "source": [
    "with open(\"Output/milestone5_output.txt\", 'w') as file2:\n",
    "    for i in input1:\n",
    "        i_components = extract_components(i)\n",
    "        if dist_checker(i_components,template_components) and angle_checker(i_components,template_components) and area_checker(i_components): \n",
    "            file2.write(i)"
   ]
  }
 ],
 "metadata": {
  "kernelspec": {
   "display_name": "Python 3 (ipykernel)",
   "language": "python",
   "name": "python3"
  },
  "language_info": {
   "codemirror_mode": {
    "name": "ipython",
    "version": 3
   },
   "file_extension": ".py",
   "mimetype": "text/x-python",
   "name": "python",
   "nbconvert_exporter": "python",
   "pygments_lexer": "ipython3",
   "version": "3.9.12"
  }
 },
 "nbformat": 4,
 "nbformat_minor": 5
}
