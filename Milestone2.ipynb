{
 "cells": [
  {
   "cell_type": "code",
   "execution_count": 22,
   "id": "01840740",
   "metadata": {},
   "outputs": [],
   "source": [
    "with open(\"Milestone_Input/Milestone 2/POI.txt\", \"r\") as poi:\n",
    "    input1 = poi.read()\n",
    "template = input1.split(\"boundary\")[1:]"
   ]
  },
  {
   "cell_type": "code",
   "execution_count": 23,
   "id": "1bcecbd2",
   "metadata": {},
   "outputs": [
    {
     "name": "stdout",
     "output_type": "stream",
     "text": [
      "boundary\n",
      "layer 1\n",
      "datatype 0\n",
      "xy  7  -180 19010  -180 23850  1190 23850  1190 20280  3630 20280  3630 19010  -180 19010\n",
      "endel\n"
     ]
    }
   ],
   "source": [
    "template = \"boundary\"+template[0]\n",
    "template = template.split(\"endel\")\n",
    "template = template[0]+\"endel\"\n",
    "print(template)"
   ]
  },
  {
   "cell_type": "code",
   "execution_count": 24,
   "id": "ca9fa244",
   "metadata": {},
   "outputs": [],
   "source": [
    "with open(\"Milestone_Input/Milestone 2/Source.txt\", \"r\") as source:\n",
    "    input1 = source.read()"
   ]
  },
  {
   "cell_type": "code",
   "execution_count": 25,
   "id": "ed10af77",
   "metadata": {
    "scrolled": true
   },
   "outputs": [],
   "source": [
    "input1 = input1.split(\"boundary\")\n",
    "input1 = input1[1:]\n",
    "input1 = [\"boundary\"+i for i in input1]\n",
    "last = input1.pop()\n",
    "last = last.split(\"endel\")\n",
    "last = last[0]+\"endel\"\n",
    "input1.append(last)"
   ]
  },
  {
   "cell_type": "code",
   "execution_count": 26,
   "id": "ee426025",
   "metadata": {},
   "outputs": [],
   "source": [
    "def extract_components(c):\n",
    "    t = c\n",
    "    t = t.split(\"\\n\")[3]\n",
    "    t = t.split(\"  \")\n",
    "    for i in range(int(t[1])):\n",
    "        t[i+2] = t[i+2].split(\" \")\n",
    "        t[i+2] = [int(x) for x in t[i+2]]\n",
    "    return t"
   ]
  },
  {
   "cell_type": "code",
   "execution_count": 27,
   "id": "a9ca6419",
   "metadata": {},
   "outputs": [
    {
     "name": "stdout",
     "output_type": "stream",
     "text": [
      "['xy', '7', [-180, 19010], [-180, 23850], [1190, 23850], [1190, 20280], [3630, 20280], [3630, 19010], [-180, 19010]]\n"
     ]
    }
   ],
   "source": [
    "template_components = extract_components(template)\n",
    "print(template_components)"
   ]
  },
  {
   "cell_type": "code",
   "execution_count": 28,
   "id": "9c7422bd",
   "metadata": {},
   "outputs": [],
   "source": [
    "def distance(x,y):\n",
    "    [x1,y1],[x2,y2] = x,y\n",
    "    return round(((x1-x2)**2 + (y1-y2)**2)**(1/2),10)"
   ]
  },
  {
   "cell_type": "code",
   "execution_count": 29,
   "id": "1e8f9eda",
   "metadata": {},
   "outputs": [],
   "source": [
    "def area(P):\n",
    "    area = 0\n",
    "    n = len(P)-2\n",
    "    X = []\n",
    "    Y = []\n",
    "    for i in P:\n",
    "        if type(i) == list:\n",
    "            X.append(i[0])\n",
    "            Y.append(i[1])\n",
    "    j = n - 1\n",
    "    for i in range(0,n):\n",
    "        area += (X[j] + X[i]) * (Y[j] - Y[i])\n",
    "        j = i\n",
    "    return round(abs(area / 2),6)"
   ]
  },
  {
   "cell_type": "code",
   "execution_count": 30,
   "id": "f5a65c7b",
   "metadata": {},
   "outputs": [],
   "source": [
    "def checker(x,y):\n",
    "    if x[1] != y[1]:\n",
    "        return False\n",
    "    d1 = list()\n",
    "    d2 = list()\n",
    "    for i in range(int(x[1])):\n",
    "        for j in range(i+1,int(x[1])):\n",
    "            d1.append(distance(x[i+2],x[j+2]))\n",
    "            d2.append(distance(x[i+2],x[j+2]))\n",
    "    d1.sort()\n",
    "    d2.sort()\n",
    "    return d1 == d2 and area(x) == area(y)"
   ]
  },
  {
   "cell_type": "code",
   "execution_count": 31,
   "id": "a4747b8b",
   "metadata": {},
   "outputs": [],
   "source": [
    "with open(\"Output/milestone2_output.txt\", 'w') as file2:\n",
    "    for i in input1:\n",
    "        i_components = extract_components(i)\n",
    "        if checker(i_components,template_components):\n",
    "            file2.write(i)"
   ]
  }
 ],
 "metadata": {
  "kernelspec": {
   "display_name": "Python 3 (ipykernel)",
   "language": "python",
   "name": "python3"
  },
  "language_info": {
   "codemirror_mode": {
    "name": "ipython",
    "version": 3
   },
   "file_extension": ".py",
   "mimetype": "text/x-python",
   "name": "python",
   "nbconvert_exporter": "python",
   "pygments_lexer": "ipython3",
   "version": "3.9.12"
  }
 },
 "nbformat": 4,
 "nbformat_minor": 5
}
