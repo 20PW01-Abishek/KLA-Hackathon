{
 "cells": [
  {
   "cell_type": "code",
   "execution_count": 103,
   "id": "0e6aa2ff",
   "metadata": {},
   "outputs": [],
   "source": [
    "with open(\"Milestone_Input/Milestone 7/POI.txt\", \"r\") as poi:\n",
    "    input1 = poi.read()\n",
    "template = input1.split(\"boundary\")[1:]"
   ]
  },
  {
   "cell_type": "code",
   "execution_count": 104,
   "id": "b178ee29",
   "metadata": {},
   "outputs": [
    {
     "name": "stdout",
     "output_type": "stream",
     "text": [
      "boundary\n",
      "layer 1\n",
      "datatype 0\n",
      "xy  5  1540 3880  1540 4340  3970 4340  3970 3880  1540 3880\n",
      "endel\n",
      "\n",
      "boundary\n",
      "layer 2\n",
      "datatype 0\n",
      "xy  5  2390 2340  2390 3740  2760 3740  2760 2340  2390 2340\n",
      "endel\n"
     ]
    }
   ],
   "source": [
    "template = [\"boundary\"+i for i in template]\n",
    "last = template.pop().split(\"endel\")\n",
    "template.append(last[0]+\"endel\")\n",
    "for i in template:\n",
    "    print(i)"
   ]
  },
  {
   "cell_type": "code",
   "execution_count": 105,
   "id": "0237fd29",
   "metadata": {},
   "outputs": [],
   "source": [
    "with open(\"Milestone_Input/Milestone 7/Source.txt\", \"r\") as source:\n",
    "    input1 = source.read()"
   ]
  },
  {
   "cell_type": "code",
   "execution_count": 106,
   "id": "e6586680",
   "metadata": {
    "scrolled": true
   },
   "outputs": [],
   "source": [
    "input1 = input1.split(\"boundary\")\n",
    "input1 = input1[1:]\n",
    "input1 = [\"boundary\"+i for i in input1]\n",
    "last = input1.pop()\n",
    "last = last.split(\"endel\")\n",
    "last = last[0]+\"endel\"\n",
    "input1.append(last)"
   ]
  },
  {
   "cell_type": "code",
   "execution_count": 107,
   "id": "044fdd5e",
   "metadata": {},
   "outputs": [],
   "source": [
    "def extract_components(c) -> list:\n",
    "    t = c\n",
    "    t = t.split(\"\\n\")[3]\n",
    "    t = t.split(\"  \")\n",
    "    for i in range(int(t[1])):\n",
    "        t[i+2] = t[i+2].split(\" \")\n",
    "        t[i+2] = [int(x) for x in t[i+2]]\n",
    "    return t[2:]"
   ]
  },
  {
   "cell_type": "code",
   "execution_count": 108,
   "id": "2592246a",
   "metadata": {},
   "outputs": [
    {
     "name": "stdout",
     "output_type": "stream",
     "text": [
      "[[1540, 3880], [1540, 4340], [2390, 2340], [2390, 3740], [2760, 2340], [2760, 3740], [3970, 3880], [3970, 4340]]\n"
     ]
    }
   ],
   "source": [
    "template_components = list()\n",
    "for i in template:\n",
    "    template_components.append(extract_components(i))\n",
    "template = []\n",
    "for i in template_components:\n",
    "    template += i\n",
    "template.sort()\n",
    "import itertools\n",
    "template = list(template for template,_ in itertools.groupby(template))\n",
    "template.sort()\n",
    "print(template)"
   ]
  },
  {
   "cell_type": "code",
   "execution_count": 109,
   "id": "345a176a",
   "metadata": {},
   "outputs": [],
   "source": [
    "# from sympy import Point, Polygon\n",
    "# p1, p2, p3, p4, p5 = map(Point, template_components[0])\n",
    "# p6, p7, p8, p9, p10 = map(Point, template_components[1])\n",
    "\n",
    "# poly1 = Polygon(p1, p2, p3, p4, p5)\n",
    "# poly2 = Polygon(p6, p7, p8, p9, p10)\n",
    "# template = poly1.union(poly2)\n",
    "# uppercord = [tuple(v) for v in upper_segment.template]\n",
    "# uppercord"
   ]
  },
  {
   "cell_type": "code",
   "execution_count": 110,
   "id": "d4b572ed",
   "metadata": {},
   "outputs": [],
   "source": [
    "def distance(x,y) -> float:\n",
    "    [x1,y1],[x2,y2] = x,y\n",
    "    return round(((x1-x2)**2 + (y1-y2)**2)**(1/2),6)"
   ]
  },
  {
   "cell_type": "code",
   "execution_count": 111,
   "id": "05311d3b",
   "metadata": {},
   "outputs": [
    {
     "name": "stdout",
     "output_type": "stream",
     "text": [
      "[460.0, 2473.155879, 2430.0, 0.0, 2430.0, 2473.155879, 460.0, 460.0, 2473.155879, 2430.0]\n",
      "[1400.0, 1448.067678, 370.0, 0.0, 370.0, 1448.067678, 1400.0, 1400.0, 1448.067678, 370.0]\n"
     ]
    }
   ],
   "source": [
    "template_distance = []\n",
    "for component in template_components:\n",
    "    d = []\n",
    "    for i in range(len(component)):\n",
    "        for j in range(i+1,len(component)):\n",
    "            d.append(distance(component[i],component[j]))\n",
    "    template_distance.append(d)\n",
    "for i in template_distance:\n",
    "    print(i)"
   ]
  },
  {
   "cell_type": "code",
   "execution_count": 112,
   "id": "432afaba",
   "metadata": {},
   "outputs": [],
   "source": [
    "def dist_checker(x) -> bool:\n",
    "    d = []\n",
    "    for i in range(len(x)):\n",
    "        for j in range(i+1,len(x)):\n",
    "            d.append(distance(x[i],x[j]))\n",
    "    for i in template_distance:\n",
    "        if i == d:\n",
    "            return True\n",
    "    return False"
   ]
  },
  {
   "cell_type": "code",
   "execution_count": 113,
   "id": "7e14c348",
   "metadata": {},
   "outputs": [],
   "source": [
    "def area(P) -> float :\n",
    "    area = 0\n",
    "    n = len(P)-2\n",
    "    X = []\n",
    "    Y = []\n",
    "    for i in P:\n",
    "        if type(i) == list:\n",
    "            X.append(i[0])\n",
    "            Y.append(i[1])\n",
    "    j = n - 1\n",
    "    for i in range(0,n):\n",
    "        area += (X[j] + X[i]) * (Y[j] - Y[i])\n",
    "        j = i\n",
    "    return round(abs(area / 2),6)"
   ]
  },
  {
   "cell_type": "code",
   "execution_count": 114,
   "id": "5b8f414a",
   "metadata": {},
   "outputs": [
    {
     "name": "stdout",
     "output_type": "stream",
     "text": [
      "[558900.0, 259000.0]\n"
     ]
    }
   ],
   "source": [
    "template_area = []\n",
    "for i in template_components:\n",
    "    template_area.append(area(i))\n",
    "print(template_area)"
   ]
  },
  {
   "cell_type": "code",
   "execution_count": 115,
   "id": "6e0fb580",
   "metadata": {},
   "outputs": [],
   "source": [
    "def area_checker(P) -> bool:\n",
    "    for i in template_area:\n",
    "        if area(P) == i:\n",
    "            return True\n",
    "    return False"
   ]
  },
  {
   "cell_type": "code",
   "execution_count": 116,
   "id": "a5b7bd44",
   "metadata": {},
   "outputs": [],
   "source": [
    "with open(\"Output/milestone7_output.txt\", 'w') as file2:\n",
    "    for i in input1:\n",
    "        i_components = extract_components(i)\n",
    "        if area_checker(i_components) or dist_checker(i_components):\n",
    "            file2.write(i)"
   ]
  }
 ],
 "metadata": {
  "kernelspec": {
   "display_name": "Python 3 (ipykernel)",
   "language": "python",
   "name": "python3"
  },
  "language_info": {
   "codemirror_mode": {
    "name": "ipython",
    "version": 3
   },
   "file_extension": ".py",
   "mimetype": "text/x-python",
   "name": "python",
   "nbconvert_exporter": "python",
   "pygments_lexer": "ipython3",
   "version": "3.9.12"
  }
 },
 "nbformat": 4,
 "nbformat_minor": 5
}
