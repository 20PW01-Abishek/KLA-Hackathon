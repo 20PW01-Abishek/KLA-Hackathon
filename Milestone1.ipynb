{
 "cells": [
  {
   "cell_type": "code",
   "execution_count": 18,
   "id": "3393aae4",
   "metadata": {},
   "outputs": [
    {
     "name": "stdout",
     "output_type": "stream",
     "text": [
      "header 600 \n",
      "bgnlib 1/19/2023 19:25:24 1/19/2023 19:25:24 \n",
      "libname egdslib\n",
      "units 0.0001 1e-10 \n",
      "\n",
      "bgnstr 1/19/2023 19:25:24 1/19/2023 19:25:24 \n",
      "strname top\n",
      "\n",
      "boundary\n",
      "layer 1\n",
      "datatype 0\n",
      "xy  5  -1490 2850  -1490 6200  -260 6200  -260 2850  -1490 2850\n",
      "endel\n",
      "boundary\n",
      "layer 1\n",
      "datatype 0\n",
      "xy  5  -1270 -1450  -1270 2220  -180 2220  -180 -1450  -1270 -1450\n",
      "endel\n",
      "boundary\n",
      "layer 1\n",
      "datatype 0\n",
      "xy  5  1290 3610  1290 6010  2460 6010  2460 3610  1290 3610\n",
      "endel\n",
      "boundary\n",
      "layer 1\n",
      "datatype 0\n",
      "xy  5  1430 240  1430 2830  2850 2830  2850 240  1430 240\n",
      "endel\n",
      "boundary\n",
      "layer 1\n",
      "datatype 0\n",
      "xy  5  3850 2560  3850 4640  4940 4640  4940 2560  3850 2560\n",
      "endel\n",
      "endstr\n",
      "endlib\n",
      "\n"
     ]
    }
   ],
   "source": [
    "with open(\"Milestone_Input/Milestone 1/Format_Source.txt\", \"r\") as file1:\n",
    "    input1 = file1.read()\n",
    "    print(input1)"
   ]
  },
  {
   "cell_type": "code",
   "execution_count": 19,
   "id": "af71a654",
   "metadata": {},
   "outputs": [
    {
     "name": "stdout",
     "output_type": "stream",
     "text": [
      "header 600 \n",
      "bgnlib 1/19/2023 19:25:24 1/19/2023 19:25:24 \n",
      "libname egdslib\n",
      "units 0.0001 1e-10 \n",
      "\n",
      "bgnstr 1/19/2023 19:25:24 1/19/2023 19:25:24 \n",
      "strname top\n",
      "\n",
      "\n",
      "\n",
      "layer 1\n",
      "datatype 0\n",
      "xy  5  -1490 2850  -1490 6200  -260 6200  -260 2850  -1490 2850\n",
      "endel\n",
      "\n",
      "\n",
      "layer 1\n",
      "datatype 0\n",
      "xy  5  -1270 -1450  -1270 2220  -180 2220  -180 -1450  -1270 -1450\n",
      "endel\n",
      "\n",
      "\n",
      "layer 1\n",
      "datatype 0\n",
      "xy  5  1290 3610  1290 6010  2460 6010  2460 3610  1290 3610\n",
      "endel\n",
      "\n",
      "\n",
      "layer 1\n",
      "datatype 0\n",
      "xy  5  1430 240  1430 2830  2850 2830  2850 240  1430 240\n",
      "endel\n",
      "\n",
      "\n",
      "layer 1\n",
      "datatype 0\n",
      "xy  5  3850 2560  3850 4640  4940 4640  4940 2560  3850 2560\n",
      "endel\n",
      "endstr\n",
      "endlib\n",
      "\n"
     ]
    }
   ],
   "source": [
    "input1 = input1.split(\"boundary\")\n",
    "for i in input1:\n",
    "    print(i)"
   ]
  },
  {
   "cell_type": "code",
   "execution_count": 20,
   "id": "38b66fa9",
   "metadata": {},
   "outputs": [],
   "source": [
    "with open(\"Output/milestone1_output.txt\", 'w') as file2:\n",
    "    for i in range(1,3):\n",
    "        file2.write(\"boundary\"+input1[i])"
   ]
  },
  {
   "cell_type": "code",
   "execution_count": 21,
   "id": "d9584ec2",
   "metadata": {},
   "outputs": [
    {
     "name": "stdout",
     "output_type": "stream",
     "text": [
      "boundary\n",
      "layer 1\n",
      "datatype 0\n",
      "xy  5  -1490 2850  -1490 6200  -260 6200  -260 2850  -1490 2850\n",
      "endel\n",
      "boundary\n",
      "layer 1\n",
      "datatype 0\n",
      "xy  5  -1270 -1450  -1270 2220  -180 2220  -180 -1450  -1270 -1450\n",
      "endel\n",
      "\n"
     ]
    }
   ],
   "source": [
    "with open(\"Output/milestone1_output.txt\", 'r') as file2:\n",
    "    output = file2.read()\n",
    "    print(output)"
   ]
  }
 ],
 "metadata": {
  "kernelspec": {
   "display_name": "Python 3 (ipykernel)",
   "language": "python",
   "name": "python3"
  },
  "language_info": {
   "codemirror_mode": {
    "name": "ipython",
    "version": 3
   },
   "file_extension": ".py",
   "mimetype": "text/x-python",
   "name": "python",
   "nbconvert_exporter": "python",
   "pygments_lexer": "ipython3",
   "version": "3.9.12"
  }
 },
 "nbformat": 4,
 "nbformat_minor": 5
}
